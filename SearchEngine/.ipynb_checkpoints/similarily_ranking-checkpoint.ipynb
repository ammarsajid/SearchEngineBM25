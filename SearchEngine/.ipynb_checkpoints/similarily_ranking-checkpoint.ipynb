{
 "cells": [
  {
   "cell_type": "markdown",
   "metadata": {},
   "source": [
    "# Search Engine Implementation\n"
   ]
  },
  {
   "cell_type": "markdown",
   "metadata": {},
   "source": [
    "An implementation of a search engine to rank matching documents according to their relevance to a given search query. The ranking is calculated by using simple term frequency and document frequency measures."
   ]
  },
  {
   "cell_type": "markdown",
   "metadata": {},
   "source": [
    "Let's first import the librarys we will be using."
   ]
  },
  {
   "cell_type": "code",
   "execution_count": 1,
   "metadata": {},
   "outputs": [],
   "source": [
    "import os\n",
    "import math\n",
    "import numpy as np\n",
    "import matplotlib.pyplot as plt"
   ]
  },
  {
   "cell_type": "markdown",
   "metadata": {},
   "source": [
    "Make a list of all txt files in the path specified"
   ]
  },
  {
   "cell_type": "code",
   "execution_count": 2,
   "metadata": {},
   "outputs": [
    {
     "name": "stdout",
     "output_type": "stream",
     "text": [
      "154 ['ACL\\\\A00-2036.pdf.txt', 'ACL\\\\A00-2037.pdf.txt', 'ACL\\\\A00-2038.pdf.txt', 'ACL\\\\A00-2039.pdf.txt', 'ACL\\\\A00-2040.pdf.txt']\n"
     ]
    }
   ],
   "source": [
    "\n",
    "path = 'ACL\\\\' # notice here that backward slash is replaced with double backward slashes\n",
    "\n",
    "txtFiles = []\n",
    "for fileName in os.listdir(path):\n",
    "    if fileName.endswith('.txt'):\n",
    "        txtFiles.append(path+fileName)\n",
    "print(len(txtFiles),txtFiles[:5])"
   ]
  },
  {
   "cell_type": "markdown",
   "metadata": {},
   "source": [
    "Defining a function to take a document as an input and return a list of words in the input document"
   ]
  },
  {
   "cell_type": "code",
   "execution_count": 3,
   "metadata": {},
   "outputs": [],
   "source": [
    "## function to read text and return list of words \n",
    "def wordList(doc):\n",
    "    sList=[]\n",
    "    for w in doc.split(\" \"):\n",
    "        sList.append(w.strip('\\n'))\n",
    "    return sList"
   ]
  },
  {
   "cell_type": "markdown",
   "metadata": {},
   "source": [
    "A sample text to the functions"
   ]
  },
  {
   "cell_type": "code",
   "execution_count": 4,
   "metadata": {},
   "outputs": [],
   "source": [
    "sampleText=\"On July 16, 1969, the Apollo 11 spacecraft launched from the Kennedy Space Center in Florida. Its mission was to go\\\n",
    "where no human being had gone before—the moon! The crew consisted of Neil Armstrong, Michael Collins, and Buzz Aldrin. The\\\n",
    "spacecraft landed on the moon in the Sea of Tranquility, a basaltic flood plain, on 20--July 1969\""
   ]
  },
  {
   "cell_type": "code",
   "execution_count": 5,
   "metadata": {},
   "outputs": [
    {
     "name": "stdout",
     "output_type": "stream",
     "text": [
      "['On', 'July', '16,', '1969,', 'the', 'Apollo', '11', 'spacecraft', 'launched', 'from', 'the', 'Kennedy', 'Space', 'Center', 'in', 'Florida.', 'Its', 'mission', 'was', 'to', 'gowhere', 'no', 'human', 'being', 'had', 'gone', 'before—the', 'moon!', 'The', 'crew', 'consisted', 'of', 'Neil', 'Armstrong,', 'Michael', 'Collins,', 'and', 'Buzz', 'Aldrin.', 'Thespacecraft', 'landed', 'on', 'the', 'moon', 'in', 'the', 'Sea', 'of', 'Tranquility,', 'a', 'basaltic', 'flood', 'plain,', 'on', '20--July', '1969']\n"
     ]
    }
   ],
   "source": [
    "print(wordList(sampleText))"
   ]
  },
  {
   "cell_type": "code",
   "execution_count": 6,
   "metadata": {},
   "outputs": [],
   "source": [
    "###  function to remove puntuation marks from words\n",
    "# import string.maketrans as textfilter\n",
    "from string import punctuation as puncs\n",
    "def removePuncs(wordList):\n",
    "    #print('punctuation marks are: ', puncs)\n",
    "    sList = []\n",
    "    for w in wordList:\n",
    "        word=w.translate(str.maketrans({key: None for key in puncs}))\n",
    "        sList.append(word)\n",
    "    return sList"
   ]
  },
  {
   "cell_type": "code",
   "execution_count": 7,
   "metadata": {},
   "outputs": [
    {
     "data": {
      "text/plain": [
       "['On',\n",
       " 'July',\n",
       " '16',\n",
       " '1969',\n",
       " 'the',\n",
       " 'Apollo',\n",
       " '11',\n",
       " 'spacecraft',\n",
       " 'launched',\n",
       " 'from',\n",
       " 'the',\n",
       " 'Kennedy',\n",
       " 'Space',\n",
       " 'Center',\n",
       " 'in',\n",
       " 'Florida',\n",
       " 'Its',\n",
       " 'mission',\n",
       " 'was',\n",
       " 'to',\n",
       " 'gowhere',\n",
       " 'no',\n",
       " 'human',\n",
       " 'being',\n",
       " 'had',\n",
       " 'gone',\n",
       " 'before—the',\n",
       " 'moon',\n",
       " 'The',\n",
       " 'crew',\n",
       " 'consisted',\n",
       " 'of',\n",
       " 'Neil',\n",
       " 'Armstrong',\n",
       " 'Michael',\n",
       " 'Collins',\n",
       " 'and',\n",
       " 'Buzz',\n",
       " 'Aldrin',\n",
       " 'Thespacecraft',\n",
       " 'landed',\n",
       " 'on',\n",
       " 'the',\n",
       " 'moon',\n",
       " 'in',\n",
       " 'the',\n",
       " 'Sea',\n",
       " 'of',\n",
       " 'Tranquility',\n",
       " 'a',\n",
       " 'basaltic',\n",
       " 'flood',\n",
       " 'plain',\n",
       " 'on',\n",
       " '20July',\n",
       " '1969']"
      ]
     },
     "execution_count": 7,
     "metadata": {},
     "output_type": "execute_result"
    }
   ],
   "source": [
    "removePuncs(wordList(sampleText))"
   ]
  },
  {
   "cell_type": "code",
   "execution_count": 8,
   "metadata": {},
   "outputs": [],
   "source": [
    "### function to calculate term frequency in the doc\n",
    "def termFrequencyInDoc(wordList):\n",
    "    termFrequency_dic={}\n",
    "    for w in wordList:\n",
    "        if w in termFrequency_dic.keys():\n",
    "            termFrequency_dic[w]+=1\n",
    "        else:\n",
    "            termFrequency_dic[w]=1\n",
    "    return termFrequency_dic"
   ]
  },
  {
   "cell_type": "code",
   "execution_count": 9,
   "metadata": {},
   "outputs": [
    {
     "data": {
      "text/plain": [
       "{'On': 1,\n",
       " 'July': 1,\n",
       " '16': 1,\n",
       " '1969': 2,\n",
       " 'the': 4,\n",
       " 'Apollo': 1,\n",
       " '11': 1,\n",
       " 'spacecraft': 1,\n",
       " 'launched': 1,\n",
       " 'from': 1,\n",
       " 'Kennedy': 1,\n",
       " 'Space': 1,\n",
       " 'Center': 1,\n",
       " 'in': 2,\n",
       " 'Florida': 1,\n",
       " 'Its': 1,\n",
       " 'mission': 1,\n",
       " 'was': 1,\n",
       " 'to': 1,\n",
       " 'gowhere': 1,\n",
       " 'no': 1,\n",
       " 'human': 1,\n",
       " 'being': 1,\n",
       " 'had': 1,\n",
       " 'gone': 1,\n",
       " 'before—the': 1,\n",
       " 'moon': 2,\n",
       " 'The': 1,\n",
       " 'crew': 1,\n",
       " 'consisted': 1,\n",
       " 'of': 2,\n",
       " 'Neil': 1,\n",
       " 'Armstrong': 1,\n",
       " 'Michael': 1,\n",
       " 'Collins': 1,\n",
       " 'and': 1,\n",
       " 'Buzz': 1,\n",
       " 'Aldrin': 1,\n",
       " 'Thespacecraft': 1,\n",
       " 'landed': 1,\n",
       " 'on': 2,\n",
       " 'Sea': 1,\n",
       " 'Tranquility': 1,\n",
       " 'a': 1,\n",
       " 'basaltic': 1,\n",
       " 'flood': 1,\n",
       " 'plain': 1,\n",
       " '20July': 1}"
      ]
     },
     "execution_count": 9,
     "metadata": {},
     "output_type": "execute_result"
    }
   ],
   "source": [
    "termFrequencyInDoc(removePuncs(wordList(sampleText)))"
   ]
  },
  {
   "cell_type": "code",
   "execution_count": 10,
   "metadata": {},
   "outputs": [],
   "source": [
    "## function to calculate word Document frequency\n",
    "def wordDocFre(dicList):\n",
    "    vocan={}\n",
    "    for docDic in dicList:\n",
    "        for w in docDic.keys():\n",
    "            if w in vocan.keys():\n",
    "                vocan[w]+=1\n",
    "            else:\n",
    "                vocan[w]=1\n",
    "    return vocan"
   ]
  },
  {
   "cell_type": "markdown",
   "metadata": {},
   "source": [
    "Calculate inverse document using IDF(w) = log [(M+1)/k]"
   ]
  },
  {
   "cell_type": "code",
   "execution_count": 11,
   "metadata": {},
   "outputs": [],
   "source": [
    "## function takes dictionary returned from wordDocFre functions above and outputs inverse document frequency of each word.\n",
    "def inverseDocFre(vocan,totalDocs):\n",
    "    invDocFreqDic={}\n",
    "    for key,value in vocan.items():\n",
    "        invDocFreqDic[key] = math.log((totalDocs + 1)/value)\n",
    "    return invDocFreqDic"
   ]
  },
  {
   "cell_type": "code",
   "execution_count": 12,
   "metadata": {},
   "outputs": [],
   "source": [
    "### function to calculate tf-idf for everyword in doc\n",
    "def tfidf(docList):\n",
    "    dicList=[]\n",
    "    for i in range(0,len(docList)):\n",
    "        sList = wordList(open(docList[i]).read())\n",
    "        sListWoPuncs = removePuncs(sList)\n",
    "        dicList.append(termFrequencyInDoc(sListWoPuncs))        \n",
    "\n",
    "    invDocFreqDic = inverseDocFre(wordDocFre(dicList),len(docList))\n",
    "    tfidf_Dic = []\n",
    "    for tfDic in dicList:\n",
    "        tempDic = {}\n",
    "        for key in tfDic.keys():\n",
    "            tempDic[key] = tfDic[key] * invDocFreqDic[key]\n",
    "        tfidf_Dic.append(tempDic)\n",
    "\n",
    "    return tfidf_Dic, dicList  "
   ]
  },
  {
   "cell_type": "markdown",
   "metadata": {},
   "source": [
    "#### sorting vocabulary according to IDF-against K (number of documents containing that word) values and plot using matplotlib.pyplot"
   ]
  },
  {
   "cell_type": "markdown",
   "metadata": {},
   "source": [
    "<img src=\"files/image.png\">"
   ]
  },
  {
   "cell_type": "code",
   "execution_count": 14,
   "metadata": {},
   "outputs": [
    {
     "data": {
      "image/png": "[encoded data removed]",
      "text/plain": [
       "<Figure size 432x288 with 1 Axes>"
      ]
     },
     "metadata": {},
     "output_type": "display_data"
    }
   ],
   "source": [
    "dicList=[]\n",
    "for i in range(0,len(txtFiles)):\n",
    "    sList = wordList(open(txtFiles[i]).read())\n",
    "    sListWoPuncs = removePuncs(sList)\n",
    "    dicList.append(termFrequencyInDoc(sListWoPuncs))\n",
    "\n",
    "DocFreqDic = wordDocFre(dicList)\n",
    "invDocFreqDic = inverseDocFre(DocFreqDic,len(txtFiles))\n",
    "invDocFreqList = list(invDocFreqDic.values())\n",
    "\n",
    "plt.plot(sorted(list(DocFreqDic.values()), reverse=True), sorted(list(invDocFreqDic.values())))\n",
    "plt.title('IDF-K relation')\n",
    "plt.xlabel('K (Doc Freq)')\n",
    "plt.ylabel('IDF')\n",
    "\n",
    "plt.show()"
   ]
  },
  {
   "cell_type": "code",
   "execution_count": null,
   "metadata": {},
   "outputs": [],
   "source": []
  }
 ],
 "metadata": {
  "kernelspec": {
   "display_name": "Python 3",
   "language": "python",
   "name": "python3"
  },
  "language_info": {
   "codemirror_mode": {
    "name": "ipython",
    "version": 3
   },
   "file_extension": ".py",
   "mimetype": "text/x-python",
   "name": "python",
   "nbconvert_exporter": "python",
   "pygments_lexer": "ipython3",
   "version": "3.6.5"
  }
 },
 "nbformat": 4,
 "nbformat_minor": 2
}
