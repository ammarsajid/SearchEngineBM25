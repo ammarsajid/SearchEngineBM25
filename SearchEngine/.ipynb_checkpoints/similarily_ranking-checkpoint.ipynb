{
 "cells": [
  {
   "cell_type": "markdown",
   "metadata": {},
   "source": [
    "# Search Engine Implementation\n"
   ]
  },
  {
   "cell_type": "markdown",
   "metadata": {},
   "source": [
    "An implementation of a search engine to rank matching documents according to their relevance to a given search query. The ranking is calculated by using simple term frequency and document frequency measures."
   ]
  },
  {
   "cell_type": "markdown",
   "metadata": {},
   "source": [
    "Let's first import the librarys we will be using."
   ]
  },
  {
   "cell_type": "code",
   "execution_count": 3,
   "metadata": {},
   "outputs": [],
   "source": [
    "import os\n",
    "import math\n",
    "import numpy as np\n",
    "import matplotlib.pyplot as plt"
   ]
  },
  {
   "cell_type": "markdown",
   "metadata": {},
   "source": [
    "Make a list of all txt files in the path specified"
   ]
  },
  {
   "cell_type": "code",
   "execution_count": 7,
   "metadata": {},
   "outputs": [
    {
     "name": "stdout",
     "output_type": "stream",
     "text": [
      "154 ['ACL\\\\A00-2036.pdf.txt', 'ACL\\\\A00-2037.pdf.txt', 'ACL\\\\A00-2038.pdf.txt', 'ACL\\\\A00-2039.pdf.txt', 'ACL\\\\A00-2040.pdf.txt']\n"
     ]
    }
   ],
   "source": [
    "\n",
    "path = 'ACL\\\\' # notice here that backward slash is replaced with double backward slashes\n",
    "\n",
    "txtFiles = []\n",
    "for fileName in os.listdir(path):\n",
    "    if fileName.endswith('.txt'):\n",
    "        txtFiles.append(path+fileName)\n",
    "print(len(txtFiles),txtFiles[:5])"
   ]
  },
  {
   "cell_type": "markdown",
   "metadata": {},
   "source": [
    "Defining a function to take a document as an input and return a list of words in the input document"
   ]
  },
  {
   "cell_type": "code",
   "execution_count": 8,
   "metadata": {},
   "outputs": [],
   "source": [
    "## function to read text and return list of words \n",
    "def wordList(doc):\n",
    "    sList=[]\n",
    "    for w in doc.split(\" \"):\n",
    "        sList.append(w.strip('\\n'))\n",
    "    return sList"
   ]
  },
  {
   "cell_type": "markdown",
   "metadata": {},
   "source": [
    "A sample text to the functions"
   ]
  },
  {
   "cell_type": "code",
   "execution_count": 21,
   "metadata": {},
   "outputs": [],
   "source": [
    "sampleText=\"Association for Computational Linguistics 6 th Applied Natural Language Processing Conference Proceedings\\\n",
    "that the conference will be a success. Sergei Nirenburg Chair, Program Committee ANLP-2000 ANLPi on 29--May \""
   ]
  },
  {
   "cell_type": "code",
   "execution_count": 22,
   "metadata": {},
   "outputs": [
    {
     "name": "stdout",
     "output_type": "stream",
     "text": [
      "['Association', 'for', 'Computational', 'Linguistics', '6', 'th', 'Applied', 'Natural', 'Language', 'Processing', 'Conference', 'Proceedingsthat', 'the', 'conference', 'will', 'be', 'a', 'success.', 'Sergei', 'Nirenburg', 'Chair,', 'Program', 'Committee', 'ANLP-2000', 'ANLPi', 'on', '29--May', '']\n"
     ]
    }
   ],
   "source": [
    "print(wordList(sampleText))"
   ]
  },
  {
   "cell_type": "code",
   "execution_count": 23,
   "metadata": {},
   "outputs": [],
   "source": [
    "###  function to remove puntuation marks from words\n",
    "# import string.maketrans as textfilter\n",
    "from string import punctuation as puncs\n",
    "def removePuncs(wordList):\n",
    "    #print('punctuation marks are: ', puncs)\n",
    "    sList = []\n",
    "    for w in wordList:\n",
    "        word=w.translate(str.maketrans({key: None for key in puncs}))\n",
    "        sList.append(word)\n",
    "    return sList"
   ]
  },
  {
   "cell_type": "code",
   "execution_count": 24,
   "metadata": {},
   "outputs": [
    {
     "data": {
      "text/plain": [
       "['Association',\n",
       " 'for',\n",
       " 'Computational',\n",
       " 'Linguistics',\n",
       " '6',\n",
       " 'th',\n",
       " 'Applied',\n",
       " 'Natural',\n",
       " 'Language',\n",
       " 'Processing',\n",
       " 'Conference',\n",
       " 'Proceedingsthat',\n",
       " 'the',\n",
       " 'conference',\n",
       " 'will',\n",
       " 'be',\n",
       " 'a',\n",
       " 'success',\n",
       " 'Sergei',\n",
       " 'Nirenburg',\n",
       " 'Chair',\n",
       " 'Program',\n",
       " 'Committee',\n",
       " 'ANLP2000',\n",
       " 'ANLPi',\n",
       " 'on',\n",
       " '29May',\n",
       " '']"
      ]
     },
     "execution_count": 24,
     "metadata": {},
     "output_type": "execute_result"
    }
   ],
   "source": [
    "removePuncs(wordList(sampleText))"
   ]
  },
  {
   "cell_type": "code",
   "execution_count": null,
   "metadata": {},
   "outputs": [],
   "source": []
  }
 ],
 "metadata": {
  "kernelspec": {
   "display_name": "Python 3",
   "language": "python",
   "name": "python3"
  },
  "language_info": {
   "codemirror_mode": {
    "name": "ipython",
    "version": 3
   },
   "file_extension": ".py",
   "mimetype": "text/x-python",
   "name": "python",
   "nbconvert_exporter": "python",
   "pygments_lexer": "ipython3",
   "version": "3.6.5"
  }
 },
 "nbformat": 4,
 "nbformat_minor": 2
}
